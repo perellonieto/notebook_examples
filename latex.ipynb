{
 "metadata": {
  "name": "",
  "signature": "sha256:7e166a60381af2c791d28832dabb2bc98a4e55f53140ebfca710e729bdbfd6f9"
 },
 "nbformat": 3,
 "nbformat_minor": 0,
 "worksheets": [
  {
   "cells": [
    {
     "cell_type": "markdown",
     "metadata": {},
     "source": [
      "Display Latex\n",
      "============="
     ]
    },
    {
     "cell_type": "code",
     "collapsed": false,
     "input": [
      "from IPython.display import Latex\n",
      "Latex(r\"\"\" \n",
      "        \\begin{equation}\n",
      "            \\nabla \\times \\vec{\\mathbf{B}} - \\sum_{i = 0}^N \\vec{w} \\cdot \\vec{x}\n",
      "        \\end{equation}\n",
      "      \"\"\")"
     ],
     "language": "python",
     "metadata": {},
     "outputs": [
      {
       "latex": [
        " \n",
        "        \\begin{equation}\n",
        "            \\nabla \\times \\vec{\\mathbf{B}} - \\sum_{i = 0}^N \\vec{w} \\cdot \\vec{x}\n",
        "        \\end{equation}\n",
        "      "
       ],
       "metadata": {},
       "output_type": "pyout",
       "prompt_number": 19,
       "text": [
        "<IPython.core.display.Latex at 0x7f66e8081990>"
       ]
      }
     ],
     "prompt_number": 19
    }
   ],
   "metadata": {}
  }
 ]
}