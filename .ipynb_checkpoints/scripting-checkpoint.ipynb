{
 "metadata": {
  "name": "",
  "signature": "sha256:8cf01068c3e0627df3c30498d01a304e81a86b0110a1cb4db94e9acf57fd349c"
 },
 "nbformat": 3,
 "nbformat_minor": 0,
 "worksheets": [
  {
   "cells": [
    {
     "cell_type": "markdown",
     "metadata": {},
     "source": [
      "Execute something in the console\n",
      "================================"
     ]
    },
    {
     "cell_type": "code",
     "collapsed": false,
     "input": [
      "files =! ls ../\n",
      "print files"
     ],
     "language": "python",
     "metadata": {},
     "outputs": [
      {
       "output_type": "stream",
       "stream": "stdout",
       "text": [
        "['airports_pageranks', 'AngryBirds', 'arbor', 'atci', 'AVR4dTetris', 'bokeh', 'caffe', 'caffe-boost-eigen', 'caffe-old', 'cdemu-code', 'ci', 'ci_old', 'cir', 'cn', 'curriculum_vitae', 'cv', 'cv_backup', 'DeepLearningTutorials', 'gcc4mbed', 'iml', 'iml_two_cultures', 'iml_two_cultures (copy)', 'inlp-annotate', 'inlp_classifier', 'inlp_parser', 'inlp_parser_backup', 'jspaint', 'libdvdcss', 'lmspd', 'mbed', 'mbed_rfid_monitor', 'mlbp', 'mlnn', 'networkx', 'nn_finances', 'nn_finances.zip', 'notebooks', 'opencv', 'opencv_tests', 'or', 'pgm', 'planner', 'Pomorizer', 'processing', 'PyBuilding', 'PyBuilding.tar.gz', 'pylearn2', 'PyMbed', 'quicktile', 'RFIDMonitor', 'rgcn', 'rpcis', 'rpcis_report', 'scholar_backup', 'scholar.py', 'scikit-learn', 'shotwell', 'soas', 'start_git.sh', 'temp', 'test_polimorphism', 'Theano', 'theano_tests', 'thesis', 'Untitled0.ipynb']\n"
       ]
      }
     ],
     "prompt_number": 49
    },
    {
     "cell_type": "markdown",
     "metadata": {},
     "source": [
      "Execute Bash code\n",
      "================="
     ]
    },
    {
     "cell_type": "code",
     "collapsed": false,
     "input": [
      "%%bash\n",
      "ls -lha"
     ],
     "language": "python",
     "metadata": {},
     "outputs": [
      {
       "output_type": "stream",
       "stream": "stdout",
       "text": [
        "total 100K\n",
        "drwxr-xr-x  7 maikel maikel 4.0K Nov  8 17:09 .\n",
        "drwxr-xr-x 64 maikel maikel 4.0K Nov  8 15:23 ..\n",
        "drwxr-xr-x 11 maikel maikel 4.0K Nov  8 15:51 ann_notebooks\n",
        "drwxr-xr-x  2 maikel maikel 4.0K Sep  5 18:29 aux\n",
        "drwxr-xr-x  2 maikel maikel 4.0K Nov  8 16:19 .ipynb_checkpoints\n",
        "-rw-------  1 maikel maikel  72K Nov  8 17:09 ipython_notebook_tests.ipynb\n",
        "drwxr-xr-x  3 maikel maikel 4.0K Oct 26 22:03 photography\n",
        "drwxr-xr-x  4 maikel maikel 4.0K Oct  1 17:07 probability_theory\n"
       ]
      }
     ],
     "prompt_number": 52
    },
    {
     "cell_type": "code",
     "collapsed": false,
     "input": [
      "%%perl\n",
      "print \"hello world!\""
     ],
     "language": "python",
     "metadata": {},
     "outputs": [
      {
       "output_type": "stream",
       "stream": "stdout",
       "text": [
        "hello world!"
       ]
      }
     ],
     "prompt_number": 53
    },
    {
     "cell_type": "code",
     "collapsed": false,
     "input": [],
     "language": "python",
     "metadata": {},
     "outputs": []
    }
   ],
   "metadata": {}
  }
 ]
}