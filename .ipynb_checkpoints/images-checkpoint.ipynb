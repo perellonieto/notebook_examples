{
 "metadata": {
  "name": "",
  "signature": "sha256:c76f2730f71adddcdab4247c60cfdb52d97138377e1cc1500435e0236c271288"
 },
 "nbformat": 3,
 "nbformat_minor": 0,
 "worksheets": []
}